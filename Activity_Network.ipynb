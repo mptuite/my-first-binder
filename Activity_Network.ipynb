{
 "cells": [
  {
   "cell_type": "markdown",
   "metadata": {},
   "source": [
    "# MP305 Activity Networks Michael Tuite"
   ]
  },
  {
   "cell_type": "markdown",
   "metadata": {},
   "source": [
    "## Overview\n",
    "A project consists of $N$ activities $A,B,C,....$ each taking some time to complete which obey precedence relations e.g. $C$ takes place after $A$ etc.\n",
    "\n",
    "In this Python file activities are described by a set `Act` e.g.  `Act=set([\"A\",\"B\",\"C\"])` where `\"A\"`, `\"B\"` and `\"C\"` are just string names for activities such as `\"First Job\"`, `\"Tea Break\"`, ...etc\n",
    "\n",
    "The time taken to complete the activities is described by a Python dictionary called `Time` e.g. `Time[\"First Job\"]=3`\n",
    "\n",
    "Precedence relations are described by a Python dictionary called `Prec` with entries giving the set of preceeding activities e.g.  `Prec[\"First Job\"]=set()` if no preceeding activity exists or `Prec[\"Tea Break\"]={\"First Job\"}` if `\"Tea Break\"` must take place after the first job has been completed.\n"
   ]
  },
  {
   "cell_type": "code",
   "execution_count": null,
   "metadata": {},
   "outputs": [],
<<<<<<< HEAD
   "source": [
    "    import networkx as nx \n",
    "    import matplotlib.pyplot as plt"
   ]
=======
   "source": []
>>>>>>> 929050ac5d68336258f17f8817042f94db04e35d
  },
  {
   "cell_type": "markdown",
   "metadata": {},
   "source": [
    "##  The `Activity` Python function\n",
    "This takes the given activities set `Act`, the dictionary `Time` and the precedence relations dictionary `Prec` and relabels the activities according to the Fulkerson algorithm from 0 to $N+1$ where the START has label $0$ and the FINISH has label $N+1$.  \n",
    "\n",
    "A list `G` of arcs `(i,j)` describing the Activity Newtork $G$ with vertices $(i,j)$  labelled by $0,1,2,.. N+1$ is produced which describes the network. A list `T` giving the completion times for the activities is also produced.\n",
    "\n",
    "The Activity Network is drawn but note that it may not always shown in its simplest form."
   ]
  },
  {
   "cell_type": "code",
   "execution_count": null,
   "metadata": {},
   "outputs": [],
   "source": []
  },
  {
   "cell_type": "code",
<<<<<<< HEAD
   "execution_count": null,
=======
   "execution_count": 20,
>>>>>>> 929050ac5d68336258f17f8817042f94db04e35d
   "metadata": {},
   "outputs": [],
   "source": [
    "def Activity (Act, Time, Prec):\n",
    "    global G,T,Alist,FinInd,LabelAi\n",
    "    FinInd = len(Act) + 1 \n",
    "    T=[0 for i in range(FinInd+1)]\n",
    "    LabelAi=dict();LabeliA=dict()\n",
    "    LabelAi[0] = \"Start\"; LabeliA[\"Start\"] = 0\n",
    "    LabelAi[FinInd] = \"Finish\"; LabeliA[\"Finish\"] = FinInd\n",
    "    NewP=dict()\n",
    "    for AA in Act:\n",
    "        NewP[AA] = Prec[AA]\n",
    "    Acurrent = Act\n",
    "    iA=0\n",
    "    Alist = [[0]]\n",
    "    while (Acurrent != set()):\n",
    "        NewA = set()\n",
    "        for Ai in Acurrent:\n",
    "            if NewP[Ai] == set():\n",
    "                NewA = NewA | set([Ai])\n",
    "        NewAlist = []\n",
    "        inew=1\n",
    "        for An in NewA:\n",
    "            LabelAi[inew + iA] = An;  LabeliA[An] = inew + iA\n",
    "            NewAlist = NewAlist + [inew + iA]\n",
    "            T[inew + iA] = Time[An]\n",
    "            inew=inew+1\n",
    "        Alist = Alist + [NewAlist] \n",
    "        iA = iA + len(NewA)\n",
    "        Acurrent = Acurrent - NewA\n",
    "        for Ai in Act:\n",
    "            NewP[Ai] = NewP[Ai] - NewA\n",
    "    Alist = Alist + [[FinInd]]\n",
    "    G = set()\n",
    "    FinNode = set([i for i in range(1,FinInd)])\n",
    "    for AA in Act:\n",
    "        iAA = LabeliA[AA]\n",
    "        if Prec[AA] == set():\n",
    "            G = G | set([(0,iAA)])\n",
    "        else:\n",
    "            for AB in Prec[AA]:\n",
    "                iAB = LabeliA[AB]\n",
    "                FinNode = FinNode - set([iAB])\n",
    "                G = G | set([(iAB,iAA)])\n",
    "    for iA in FinNode:\n",
    "        G = G | set([(iA,FinInd)])\n",
    "    print(\"The Activities have been relabeled with completion times:\")\n",
    "    for i in range(0, FinInd + 1):\n",
    "        print(\"Activity \", LabelAi[i], \" is activity \", i, \" with completion time \", T[i])\n",
    "    print(\"\")\n",
    "    print(\"The Activity Network is decribed by: \", G)\n",
<<<<<<< HEAD
=======
    "    import networkx as nx \n",
    "    import matplotlib.pyplot as plt\n",
>>>>>>> 929050ac5d68336258f17f8817042f94db04e35d
    "    plt.figure(figsize=(6, 6))\n",
    "    G_Graph=nx.DiGraph()\n",
    "    for arc in G:\n",
    "        i,j=arc\n",
    "        G_Graph.add_edge(i,j)\n",
    "    Gh=20; Gw=200\n",
    "    Gpos={0:(0,Gh/2),FinInd:(Gw,Gh/2)}\n",
    "    ncol=len(Alist)-2\n",
    "    delx=Gw/(ncol+1)\n",
    "    for i in range(1,ncol+1):\n",
    "        Ai=Alist[i]\n",
    "        nAi=len(Ai)\n",
    "        dely=Gh/(nAi+1)\n",
    "        for j in range(nAi):\n",
    "            Aij=Ai[nAi-j-1]\n",
    "            Gpos[Aij]=(i*delx,(1+j)*dely)\n",
    "    nx.draw(G_Graph,pos=Gpos, with_labels=True,node_size=1000,font_size=15,node_color='yellow',arrowsize=30)\n",
    "    #print(\"\")\n",
    "   # nx.draw(G_Graph,labels=LabelAi,pos=Gpos, with_labels=True,node_size=1000,font_size=15,node_color='yellow',arrowsize=30)"
   ]
  },
  {
   "cell_type": "markdown",
   "metadata": {},
   "source": [
    "# Example1: The Chemical Process example discussed in class\n",
    " Define the set of activities, completion times and precedence relations"
   ]
  },
  {
   "cell_type": "code",
<<<<<<< HEAD
   "execution_count": null,
=======
   "execution_count": 21,
>>>>>>> 929050ac5d68336258f17f8817042f94db04e35d
   "metadata": {},
   "outputs": [],
   "source": [
    "Act=set([\"A\",\"B\",\"C\",\"D\",\"E\",\"F\",\"G\"])\n",
    "\n",
    "Time=dict()\n",
    "\n",
    "Time[\"A\"]=2; Time[\"B\"]=1; Time[\"C\"]=3; Time[\"D\"]=3\n",
    "Time[\"E\"]=2; Time[\"F\"]=1; Time[\"G\"]=3\n",
    "\n",
    "Prec=dict()\n",
    "\n",
    "Prec[\"A\"]=set(); Prec[\"B\"]=set(); Prec[\"C\"]=set()\n",
    "Prec[\"D\"]={\"A\",\"B\"}\n",
    "Prec[\"E\"]={\"B\",\"C\",\"D\"}\n",
    "Prec[\"F\"]={\"A\",\"D\"}\n",
    "Prec[\"G\"]={\"E\",\"F\"}"
   ]
  },
  {
   "cell_type": "code",
<<<<<<< HEAD
   "execution_count": null,
   "metadata": {},
   "outputs": [],
=======
   "execution_count": 22,
   "metadata": {},
   "outputs": [
    {
     "data": {
      "text/plain": [
       "{'A', 'B', 'C', 'D', 'E', 'F', 'G'}"
      ]
     },
     "execution_count": 22,
     "metadata": {},
     "output_type": "execute_result"
    }
   ],
>>>>>>> 929050ac5d68336258f17f8817042f94db04e35d
   "source": [
    "Act"
   ]
  },
  {
   "cell_type": "code",
<<<<<<< HEAD
   "execution_count": null,
   "metadata": {},
   "outputs": [],
=======
   "execution_count": 23,
   "metadata": {},
   "outputs": [
    {
     "data": {
      "text/plain": [
       "{'A': 2, 'B': 1, 'C': 3, 'D': 3, 'E': 2, 'F': 1, 'G': 3}"
      ]
     },
     "execution_count": 23,
     "metadata": {},
     "output_type": "execute_result"
    }
   ],
>>>>>>> 929050ac5d68336258f17f8817042f94db04e35d
   "source": [
    "Time"
   ]
  },
  {
   "cell_type": "code",
<<<<<<< HEAD
   "execution_count": null,
   "metadata": {},
   "outputs": [],
=======
   "execution_count": 24,
   "metadata": {},
   "outputs": [
    {
     "data": {
      "text/plain": [
       "{'A': set(),\n",
       " 'B': set(),\n",
       " 'C': set(),\n",
       " 'D': {'A', 'B'},\n",
       " 'E': {'B', 'C', 'D'},\n",
       " 'F': {'A', 'D'},\n",
       " 'G': {'E', 'F'}}"
      ]
     },
     "execution_count": 24,
     "metadata": {},
     "output_type": "execute_result"
    }
   ],
>>>>>>> 929050ac5d68336258f17f8817042f94db04e35d
   "source": [
    "Prec"
   ]
  },
  {
   "cell_type": "code",
<<<<<<< HEAD
   "execution_count": null,
   "metadata": {},
   "outputs": [],
=======
   "execution_count": 25,
   "metadata": {},
   "outputs": [
    {
     "name": "stdout",
     "output_type": "stream",
     "text": [
      "The Activities have been relabeled with completion times:\n",
      "Activity  Start  is activity  0  with completion time  0\n",
      "Activity  C  is activity  1  with completion time  3\n",
      "Activity  B  is activity  2  with completion time  1\n",
      "Activity  A  is activity  3  with completion time  2\n",
      "Activity  D  is activity  4  with completion time  3\n",
      "Activity  E  is activity  5  with completion time  2\n",
      "Activity  F  is activity  6  with completion time  1\n",
      "Activity  G  is activity  7  with completion time  3\n",
      "Activity  Finish  is activity  8  with completion time  0\n",
      "\n",
      "The Activity Network is decribed by:  {(0, 1), (2, 4), (3, 4), (1, 5), (4, 6), (0, 3), (5, 7), (6, 7), (4, 5), (0, 2), (3, 6), (2, 5), (7, 8)}\n"
     ]
    },
    {
     "data": {
      "image/png": "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\n",
      "text/plain": [
       "<Figure size 432x432 with 1 Axes>"
      ]
     },
     "metadata": {},
     "output_type": "display_data"
    }
   ],
>>>>>>> 929050ac5d68336258f17f8817042f94db04e35d
   "source": [
    "Activity(Act,Time,Prec)"
   ]
  },
  {
   "cell_type": "code",
   "execution_count": null,
   "metadata": {},
   "outputs": [],
   "source": []
  },
  {
   "cell_type": "code",
   "execution_count": null,
   "metadata": {},
   "outputs": [],
   "source": []
  },
  {
   "cell_type": "markdown",
   "metadata": {},
   "source": [
    "## The function `CritPath` \n",
    "This computes the critical path, the minimum project completion time, the earliest and  latest starting times and the float for each activity for an activity network `G` with completion times `T`."
   ]
  },
  {
   "cell_type": "code",
   "execution_count": null,
   "metadata": {},
   "outputs": [],
   "source": []
  },
  {
   "cell_type": "code",
<<<<<<< HEAD
   "execution_count": null,
=======
   "execution_count": 26,
>>>>>>> 929050ac5d68336258f17f8817042f94db04e35d
   "metadata": {},
   "outputs": [],
   "source": [
    "def CritPath (G, T):\n",
    "    global FinInd,e,l,f,In,Out\n",
    "    In=[[] for i in range(0, FinInd + 1)]\n",
    "    Out=[[] for i in range(0, FinInd + 1)]\n",
    "    for arc in G:\n",
    "        i,j=arc\n",
    "        In[j] = In[j]  + [i]\n",
    "        Out[i]  = Out[i] + [j]\n",
    "\n",
    "    # Forward scan for earliest starting times\n",
    "    e=[0 for i in range(FinInd + 1)]\n",
    "    p=[0 for i in range(FinInd + 1)]\n",
    "    for j in range(1, FinInd + 1):\n",
    "        #v = In[j][1]\n",
    "        #e[j] = e[v] + T[v]\n",
    "        #p[j] = v\n",
    "        for u in In[j]:\n",
    "            newe = e[u] + T[u]\n",
    "            if e[j] <= newe:\n",
    "                e[j] = newe\n",
    "                p[j] = u\n",
    "\n",
    "    # Backward scan for critical path\n",
    "    cpath = [FinInd]\n",
    "    start = FinInd\n",
    "    while (not(start == 0)):\n",
    "        start = p[start]\n",
    "        cpath = [start] + cpath\n",
    "\n",
    "    TTotal = 0\n",
    "    for j in range(1, FinInd):\n",
    "        TTotal = TTotal + T[j]\n",
    "    print(\"The Total amount of work to be completed is:\", TTotal)\n",
    "    print(\"The Critical Path is:\", cpath)\n",
    "    print(\"The Minimum Completion Time with sufficient workers is:\", e[FinInd])\n",
    "    \n",
    "    # latest starting times\n",
    "    l=[0 for i in range(FinInd+1)] \n",
    "    f=[0 for i in range(FinInd+1)] \n",
    "    l[FinInd]=e[FinInd]\n",
    "    for i in range(FinInd-1, -1, -1):\n",
    "        l[i]=min([l[j] for j in Out[i]])-T[i]\n",
    "        f[i]=l[i]-e[i]\n",
    "    data=[[\"    Activity\", \"Earliest\", \"Latest\", \"Float\"]]\n",
    "    data=data +[[i,e[i],l[i],f[i]] for i in range(FinInd+1)]\n",
    "    for row in data:\n",
    "        print(\"{: >10}{: >10}{: >10}{: >10}\".format(*row))"
   ]
  },
  {
   "cell_type": "code",
<<<<<<< HEAD
   "execution_count": null,
   "metadata": {},
   "outputs": [],
=======
   "execution_count": 27,
   "metadata": {},
   "outputs": [
    {
     "name": "stdout",
     "output_type": "stream",
     "text": [
      "The Total amount of work to be completed is: 15\n",
      "The Critical Path is: [0, 3, 4, 5, 7, 8]\n",
      "The Minimum Completion Time with sufficient workers is: 10\n",
      "    Activity  Earliest    Latest     Float\n",
      "         0         0         0         0\n",
      "         1         0         2         2\n",
      "         2         0         1         1\n",
      "         3         0         0         0\n",
      "         4         2         2         0\n",
      "         5         5         5         0\n",
      "         6         5         6         1\n",
      "         7         7         7         0\n",
      "         8        10        10         0\n"
     ]
    }
   ],
>>>>>>> 929050ac5d68336258f17f8817042f94db04e35d
   "source": [
    "CritPath(G,T)"
   ]
  },
  {
   "cell_type": "code",
   "execution_count": null,
   "metadata": {},
   "outputs": [],
   "source": []
  },
  {
   "cell_type": "markdown",
   "metadata": {},
   "source": [
    "## The function `CritSchedule` \n",
    "This implements the Critical Path Schedule for an acivity network `G` with times `T` by assigning tasks to `Nw` workers.  The output describes the assignment of activities to each worker together with a graphical display of the history over time.\n",
    "\n",
    "\n",
    "This function calls the functions `RankSet1`, which ranks a set of tasks (according to latest starting times) and `GraphSchedule` which produces a graphic for the final schedule"
   ]
  },
  {
   "cell_type": "code",
   "execution_count": null,
   "metadata": {},
   "outputs": [],
   "source": []
  },
  {
   "cell_type": "code",
<<<<<<< HEAD
   "execution_count": null,
=======
   "execution_count": 28,
>>>>>>> 929050ac5d68336258f17f8817042f94db04e35d
   "metadata": {},
   "outputs": [],
   "source": [
    "def RankSet1 (vset):\n",
    "    global l\n",
    "    vlist=list(vset)\n",
    "    nlist = len(vlist)\n",
    "    for i in range(nlist):\n",
    "        for j in range(i,nlist):\n",
    "                vi = vlist[i];  vj = vlist[j]\n",
    "                ri = l[vi]; rj = l[vj]\n",
    "                if rj < ri or (ri == rj and vj < vi):\n",
    "                    vlist[i],vlist[j]=vlist[j],vlist[i]\n",
    "    return(vlist)"
   ]
  },
  {
   "cell_type": "code",
   "execution_count": null,
   "metadata": {},
   "outputs": [],
   "source": []
  },
  {
   "cell_type": "code",
<<<<<<< HEAD
   "execution_count": null,
=======
   "execution_count": 32,
>>>>>>> 929050ac5d68336258f17f8817042f94db04e35d
   "metadata": {},
   "outputs": [],
   "source": [
    "def GraphSchedule (Wseq,Time):\n",
    "    import matplotlib.pyplot as plt\n",
    "    from matplotlib.patches import Rectangle\n",
    "    Nw=len(Wseq)\n",
    "    colorw={1:\"green\",2:\"yellow\",3:\"orange\",4:\"blue\",5:\"red\"}\n",
    "    fig = plt.figure()\n",
    "    ax = fig.add_subplot() \n",
    "    Tmax=0\n",
    "    for nw in range(1,Nw+1):\n",
    "        Wseqn=Wseq[nw]\n",
    "        AW=int(len(Wseqn)/4) # no of tasks for a worker\n",
    "        y0=nw-1\n",
    "        for iw in range(AW):\n",
    "            t0,Aiw,t1=Wseqn[0+4*iw:3+4*iw]\n",
    "            x0=t0\n",
    "            width=t1-t0\n",
    "            Tmax=max(Tmax,t1)\n",
    "            rect = Rectangle((x0, y0), width, 1, ec ='black',lw = 2,color=colorw[nw]) \n",
    "            ax.add_patch(rect) \n",
    "            ax.text(x0+width/2, y0+1/2, Aiw,size=15)\n",
    "        ax.text(-Time/3, y0+1/2, \"Worker \"+str(nw),size=15)\n",
    "    \n",
    "    # tickmarks and axes range and labels\n",
    "    ax.set_xticks([k for k in range(Time+1)])\n",
    "    ax.set_yticks([])\n",
    "    plt.xlim([0, Time]) \n",
    "    plt.ylim([0, Nw])\n",
    "    plt.xlabel('Time',size=15)\n",
    "    plt.show()"
   ]
  },
  {
   "cell_type": "code",
<<<<<<< HEAD
   "execution_count": null,
=======
   "execution_count": 33,
>>>>>>> 929050ac5d68336258f17f8817042f94db04e35d
   "metadata": {},
   "outputs": [],
   "source": [
    "def CritSchedule (G, T, Nw):\n",
    "#\n",
    "# This function finds the optimal schedule according to the critical path scheduling algorithm for Nw workers. \n",
    "# Any idle worker is always assigned an activity if possible.\n",
    "#\n",
    "    global FinInd,In,Out,e,workertaskseq\n",
    "    CritPath(G, T)\n",
    "    print(\"\")\n",
    "# Total time for all activities\n",
    "    Tot = 0\n",
    "    for k in range(1, FinInd):\n",
    "        Tot = Tot + T[k]\n",
    "    Topt = max(Tot / Nw, e[FinInd])\n",
    "# sequences of tasks undertaken by worker i\n",
    "    workertaskseq=dict()\n",
    "    for i in range(1, Nw + 1):\n",
    "        workertaskseq[i] = []\n",
    "#set of workers available\n",
    "    availset = set([k for k in range(1,Nw+1)])\n",
    "#worker assigned to activity k\n",
    "    Activity=dict()\n",
    "#\n",
    "# Initial activities Done, Current and Next\n",
    "#\n",
    "    Current = set(); Done = set(); Next = set(Out[0]); Time = 0\n",
    "#\n",
    "# The Time left for activities\n",
    "#\n",
    "    Tleft=dict()\n",
    "    for i in range(0, FinInd + 1):\n",
    "        Tleft[i] = T[i]\n",
    "\n",
    "    while (len(Done) != FinInd-1):\n",
    "#\n",
    "# Assign activities to available workers:\n",
    "#\n",
    "        Nextlist = RankSet1(set(Next))\n",
    "        noc = len(Current)\n",
    "        for i in range(1, min(Nw - noc, len(Next)) + 1):\n",
    "            nextjob = Nextlist[i-1]\n",
    "            workeri = list(availset)[0]\n",
    "            Activity[nextjob] = workeri\n",
    "            availset = availset - set([workeri])\n",
    "            workertaskseq[workeri] = workertaskseq[workeri] + [Time, nextjob]\n",
    "            Current = Current | set([nextjob])\n",
    "            Next = Next - set([nextjob])\n",
    "        print(\"Time=\",Time,\"Current activities=\",Current)\n",
    "        print(\"\")\n",
    " # times to complete current tasks\n",
    "        Tset = set()\n",
    "        for v in Current:\n",
    "            Tset = Tset | set([Tleft[v]])\n",
    "        DelT = min(tuple(Tset))\n",
    "        Time = Time + DelT\n",
    "        for v in Current:\n",
    "            Tleft[v] = Tleft[v] - DelT\n",
    "            if Tleft[v] == 0:\n",
    "                print(\"Time=\",Time,\"Activity\",v,\"completed\")\n",
    "                workerv = Activity[v]\n",
    "                workertaskseq[workerv] = workertaskseq[workerv] +[Time, v]\n",
    "                availset = availset | set([workerv])\n",
    "                Done = Done | set([v])\n",
    "                Current = Current - set([v])\n",
    "                for w in Out[v]:\n",
    "                    if set(In[w]) - Done == set():\n",
    "                        Next = Next | set([w]) - set([FinInd])\n",
    "    if Time == Topt:\n",
    "        print(\"\")\n",
    "        print(\"Optimal Schedule Found for\",Nw,\"Workers!\")\n",
    "        if Topt == e[FinInd]:\n",
    "            print(\"The Minimal Completion Time of\",e[FinInd], \"is achieved for\",Nw,\" Workers!\")\n",
    "    GraphSchedule(workertaskseq,Time)"
   ]
  },
  {
   "cell_type": "markdown",
   "metadata": {},
   "source": [
    "## Example 1 \n",
    "Find Critical Schedule for first example in class for 1,2,3 workers"
   ]
  },
  {
   "cell_type": "code",
<<<<<<< HEAD
   "execution_count": null,
   "metadata": {},
   "outputs": [],
=======
   "execution_count": 34,
   "metadata": {},
   "outputs": [
    {
     "name": "stdout",
     "output_type": "stream",
     "text": [
      "The Total amount of work to be completed is: 15\n",
      "The Critical Path is: [0, 3, 4, 5, 7, 8]\n",
      "The Minimum Completion Time with sufficient workers is: 10\n",
      "    Activity  Earliest    Latest     Float\n",
      "         0         0         0         0\n",
      "         1         0         2         2\n",
      "         2         0         1         1\n",
      "         3         0         0         0\n",
      "         4         2         2         0\n",
      "         5         5         5         0\n",
      "         6         5         6         1\n",
      "         7         7         7         0\n",
      "         8        10        10         0\n",
      "\n",
      "Time= 0 Current activities= {3}\n",
      "\n",
      "Time= 2 Activity 3 completed\n",
      "Time= 2 Current activities= {2}\n",
      "\n",
      "Time= 3 Activity 2 completed\n",
      "Time= 3 Current activities= {1}\n",
      "\n",
      "Time= 6 Activity 1 completed\n",
      "Time= 6 Current activities= {4}\n",
      "\n",
      "Time= 9 Activity 4 completed\n",
      "Time= 9 Current activities= {5}\n",
      "\n",
      "Time= 11 Activity 5 completed\n",
      "Time= 11 Current activities= {6}\n",
      "\n",
      "Time= 12 Activity 6 completed\n",
      "Time= 12 Current activities= {7}\n",
      "\n",
      "Time= 15 Activity 7 completed\n",
      "\n",
      "Optimal Schedule Found for 1 Workers!\n"
     ]
    },
    {
     "data": {
      "image/png": "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\n",
      "text/plain": [
       "<Figure size 432x288 with 1 Axes>"
      ]
     },
     "metadata": {
      "needs_background": "light"
     },
     "output_type": "display_data"
    },
    {
     "data": {
      "text/plain": [
       "<Figure size 720x288 with 0 Axes>"
      ]
     },
     "metadata": {},
     "output_type": "display_data"
    }
   ],
>>>>>>> 929050ac5d68336258f17f8817042f94db04e35d
   "source": [
    "CritSchedule(G,T,1)"
   ]
  },
  {
   "cell_type": "code",
<<<<<<< HEAD
   "execution_count": null,
   "metadata": {},
   "outputs": [],
=======
   "execution_count": 35,
   "metadata": {},
   "outputs": [
    {
     "name": "stdout",
     "output_type": "stream",
     "text": [
      "The Total amount of work to be completed is: 15\n",
      "The Critical Path is: [0, 3, 4, 5, 7, 8]\n",
      "The Minimum Completion Time with sufficient workers is: 10\n",
      "    Activity  Earliest    Latest     Float\n",
      "         0         0         0         0\n",
      "         1         0         2         2\n",
      "         2         0         1         1\n",
      "         3         0         0         0\n",
      "         4         2         2         0\n",
      "         5         5         5         0\n",
      "         6         5         6         1\n",
      "         7         7         7         0\n",
      "         8        10        10         0\n",
      "\n",
      "Time= 0 Current activities= {2, 3}\n",
      "\n",
      "Time= 1 Activity 2 completed\n",
      "Time= 1 Current activities= {1, 3}\n",
      "\n",
      "Time= 2 Activity 3 completed\n",
      "Time= 2 Current activities= {1, 4}\n",
      "\n",
      "Time= 4 Activity 1 completed\n",
      "Time= 4 Current activities= {4}\n",
      "\n",
      "Time= 5 Activity 4 completed\n",
      "Time= 5 Current activities= {5, 6}\n",
      "\n",
      "Time= 6 Activity 6 completed\n",
      "Time= 6 Current activities= {5}\n",
      "\n",
      "Time= 7 Activity 5 completed\n",
      "Time= 7 Current activities= {7}\n",
      "\n",
      "Time= 10 Activity 7 completed\n",
      "\n",
      "Optimal Schedule Found for 2 Workers!\n",
      "The Minimal Completion Time of 10 is achieved for 2  Workers!\n"
     ]
    },
    {
     "data": {
      "image/png": "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\n",
      "text/plain": [
       "<Figure size 432x288 with 1 Axes>"
      ]
     },
     "metadata": {
      "needs_background": "light"
     },
     "output_type": "display_data"
    },
    {
     "data": {
      "text/plain": [
       "<Figure size 720x576 with 0 Axes>"
      ]
     },
     "metadata": {},
     "output_type": "display_data"
    }
   ],
>>>>>>> 929050ac5d68336258f17f8817042f94db04e35d
   "source": [
    "CritSchedule(G,T,2)"
   ]
  },
  {
   "cell_type": "code",
<<<<<<< HEAD
   "execution_count": null,
   "metadata": {},
   "outputs": [],
=======
   "execution_count": 41,
   "metadata": {},
   "outputs": [
    {
     "name": "stdout",
     "output_type": "stream",
     "text": [
      "The Total amount of work to be completed is: 15\n",
      "The Critical Path is: [0, 2, 4, 5, 7, 8]\n",
      "The Minimum Completion Time with sufficient workers is: 10\n",
      "    Activity  Earliest    Latest     Float\n",
      "         0         0         0         0\n",
      "         1         0         2         2\n",
      "         2         0         0         0\n",
      "         3         0         1         1\n",
      "         4         2         2         0\n",
      "         5         5         5         0\n",
      "         6         5         6         1\n",
      "         7         7         7         0\n",
      "         8        10        10         0\n",
      "\n",
      "Time= 0 Current activities= {1, 2, 3}\n",
      "\n",
      "Time= 1 Activity 3 completed\n",
      "Time= 1 Current activities= {1, 2}\n",
      "\n",
      "Time= 2 Activity 2 completed\n",
      "Time= 2 Current activities= {1, 4}\n",
      "\n",
      "Time= 3 Activity 1 completed\n",
      "Time= 3 Current activities= {4}\n",
      "\n",
      "Time= 5 Activity 4 completed\n",
      "Time= 5 Current activities= {5, 6}\n",
      "\n",
      "Time= 6 Activity 6 completed\n",
      "Time= 6 Current activities= {5}\n",
      "\n",
      "Time= 7 Activity 5 completed\n",
      "Time= 7 Current activities= {7}\n",
      "\n",
      "Time= 10 Activity 7 completed\n",
      "\n",
      "Optimal Schedule Found for 3 Workers!\n",
      "The Minimal Completion Time of 10 is achieved for 3  Workers!\n"
     ]
    },
    {
     "data": {
      "image/png": "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\n",
      "text/plain": [
       "<Figure size 432x288 with 1 Axes>"
      ]
     },
     "metadata": {
      "needs_background": "light"
     },
     "output_type": "display_data"
    }
   ],
>>>>>>> 929050ac5d68336258f17f8817042f94db04e35d
   "source": [
    "CritSchedule(G,T,3)"
   ]
  },
  {
   "cell_type": "code",
   "execution_count": null,
   "metadata": {},
   "outputs": [],
   "source": []
  },
  {
   "cell_type": "markdown",
   "metadata": {},
   "source": [
    "## The function `ProtSchedule`  \n",
    "This implements the Protection Scheme Schedule for assigning tasks to `Nw` workers. The output describes the assignement of activities to each worker together with a graphical display of the history over time. \n",
    "\n",
    "This function calls RankSet2 which ranks  a set of tasks according to earliest + lastest starting times"
   ]
  },
  {
   "cell_type": "code",
   "execution_count": null,
   "metadata": {},
   "outputs": [],
   "source": []
  },
  {
   "cell_type": "code",
<<<<<<< HEAD
   "execution_count": null,
=======
   "execution_count": 42,
>>>>>>> 929050ac5d68336258f17f8817042f94db04e35d
   "metadata": {},
   "outputs": [],
   "source": [
    "def RankSet2 (vset):\n",
    "    global l,e\n",
    "    vlist=list(vset)\n",
    "    nlist = len(vlist)\n",
    "    for i in range(nlist):\n",
    "        for j in range(i,nlist):\n",
    "                vi = vlist[i];  vj = vlist[j]\n",
    "                ri = e[vi]+l[vi]; rj =e[vj]+ l[vj]\n",
    "                if rj < ri or (ri == rj and vj < vi):\n",
    "                    vlist[i],vlist[j]=vlist[j],vlist[i]\n",
    "    return(vlist)"
   ]
  },
  {
   "cell_type": "code",
   "execution_count": null,
   "metadata": {},
   "outputs": [],
   "source": []
  },
  {
   "cell_type": "code",
<<<<<<< HEAD
   "execution_count": null,
=======
   "execution_count": 43,
>>>>>>> 929050ac5d68336258f17f8817042f94db04e35d
   "metadata": {},
   "outputs": [],
   "source": [
    "def ProtSchedule (G, T, Nw):\n",
    "#\n",
    "# This function finds the optimal schedule according to the critical path scheduling algorithm for Nw workers. \n",
    "# Any idle worker is always assigned an activity if possible.\n",
    "#\n",
    "    global FinInd,In,Out,e,workertaskseq\n",
    "    CritPath(G, T)\n",
    "    print(\"\")\n",
    "# Total time for all activities\n",
    "    Tot = 0\n",
    "    for k in range(1, FinInd):\n",
    "        Tot = Tot + T[k]\n",
    "    Topt = max(Tot / Nw, e[FinInd])\n",
    "# sequences of tasks undertaken by worker i\n",
    "    workertaskseq=dict()\n",
    "    for i in range(1, Nw + 1):\n",
    "        workertaskseq[i] = []\n",
    "#set of workers available\n",
    "    availset = set([k for k in range(1,Nw+1)])\n",
    "#worker assigned to activity k\n",
    "    Activity=dict()\n",
    "#\n",
    "# Initial activities Done, Current and Next\n",
    "#\n",
    "    Current = set(); Done = set(); Next = set(Out[0]); Time = 0\n",
    "#\n",
    "# The Time left for activities\n",
    "#\n",
    "    Tleft=dict()\n",
    "    for i in range(0, FinInd + 1):\n",
    "        Tleft[i] = T[i]\n",
    "    AllRank=RankSet2(set([i for i in range(1,FinInd+1)]));\n",
    "    while (len(Done) != FinInd-1):\n",
    "#\n",
    "# Assign activities to available workers:\n",
    "#\n",
    "        Nextlist = RankSet2(set(Next))\n",
    "        noc = len(Current)\n",
    "        for i in range(1, min(Nw - noc, len(Next)) + 1):\n",
    "            nextjob = Nextlist[i-1]\n",
    "            workeri = list(availset)[0]\n",
    "            if nextjob==AllRank[0]: \n",
    "                Activity[nextjob] = workeri\n",
    "                availset = availset - set([workeri])\n",
    "                workertaskseq[workeri] = workertaskseq[workeri] + [Time, nextjob]\n",
    "                Current = Current | set([nextjob])\n",
    "                Next = Next - set([nextjob])\n",
    "                AllRank=RankSet2(set(AllRank) - set([nextjob]))\n",
    "        print(\"Time=\",Time,\"Current activities=\",Current)\n",
    "        print(\"\")\n",
    " # times to complete current tasks\n",
    "        Tset = set()\n",
    "        for v in Current:\n",
    "            Tset = Tset | set([Tleft[v]])\n",
    "        DelT = min(tuple(Tset))\n",
    "        Time = Time + DelT\n",
    "        for v in Current:\n",
    "            Tleft[v] = Tleft[v] - DelT\n",
    "            if Tleft[v] == 0:\n",
    "                print(\"Time=\",Time,\"Activity\",v,\"completed\")\n",
    "                workerv = Activity[v]\n",
    "                workertaskseq[workerv] = workertaskseq[workerv] +[Time, v]\n",
    "                availset = availset | set([workerv])\n",
    "                Done = Done | set([v])\n",
    "                Current = Current - set([v])\n",
    "                for w in Out[v]:\n",
    "                    if set(In[w]) - Done == set():\n",
    "                        Next = Next | set([w]) - set([FinInd])\n",
    "    if Time == Topt:\n",
    "        print(\"\")\n",
    "        print(\"Optimal Schedule Found for\",Nw,\"Workers!\")\n",
    "        if Topt == e[FinInd]:\n",
    "            print(\"The Minimal Completion Time of\",e[FinInd], \"is achieved for\",Nw,\" Workers!\")\n",
    "    GraphSchedule(workertaskseq,Time)"
   ]
  },
  {
   "cell_type": "markdown",
   "metadata": {},
   "source": [
    "## Example 1 \n",
    "Find the Protected Schedule for first example in class for 2,3 workers"
   ]
  },
  {
   "cell_type": "code",
<<<<<<< HEAD
   "execution_count": null,
   "metadata": {},
   "outputs": [],
=======
   "execution_count": 44,
   "metadata": {},
   "outputs": [
    {
     "name": "stdout",
     "output_type": "stream",
     "text": [
      "The Total amount of work to be completed is: 15\n",
      "The Critical Path is: [0, 2, 4, 5, 7, 8]\n",
      "The Minimum Completion Time with sufficient workers is: 10\n",
      "    Activity  Earliest    Latest     Float\n",
      "         0         0         0         0\n",
      "         1         0         2         2\n",
      "         2         0         0         0\n",
      "         3         0         1         1\n",
      "         4         2         2         0\n",
      "         5         5         5         0\n",
      "         6         5         6         1\n",
      "         7         7         7         0\n",
      "         8        10        10         0\n",
      "\n",
      "Time= 0 Current activities= {2, 3}\n",
      "\n",
      "Time= 1 Activity 3 completed\n",
      "Time= 1 Current activities= {1, 2}\n",
      "\n",
      "Time= 2 Activity 2 completed\n",
      "Time= 2 Current activities= {1, 4}\n",
      "\n",
      "Time= 4 Activity 1 completed\n",
      "Time= 4 Current activities= {4}\n",
      "\n",
      "Time= 5 Activity 4 completed\n",
      "Time= 5 Current activities= {5, 6}\n",
      "\n",
      "Time= 6 Activity 6 completed\n",
      "Time= 6 Current activities= {5}\n",
      "\n",
      "Time= 7 Activity 5 completed\n",
      "Time= 7 Current activities= {7}\n",
      "\n",
      "Time= 10 Activity 7 completed\n",
      "\n",
      "Optimal Schedule Found for 2 Workers!\n",
      "The Minimal Completion Time of 10 is achieved for 2  Workers!\n"
     ]
    },
    {
     "data": {
      "image/png": "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\n",
      "text/plain": [
       "<Figure size 432x288 with 1 Axes>"
      ]
     },
     "metadata": {
      "needs_background": "light"
     },
     "output_type": "display_data"
    }
   ],
>>>>>>> 929050ac5d68336258f17f8817042f94db04e35d
   "source": [
    "ProtSchedule (G, T, 2)"
   ]
  },
  {
   "cell_type": "code",
   "execution_count": null,
   "metadata": {},
   "outputs": [],
   "source": []
  },
  {
   "cell_type": "markdown",
   "metadata": {},
   "source": [
    "# Lecture 8 example "
   ]
  },
  {
   "cell_type": "code",
<<<<<<< HEAD
   "execution_count": null,
=======
   "execution_count": 45,
>>>>>>> 929050ac5d68336258f17f8817042f94db04e35d
   "metadata": {},
   "outputs": [],
   "source": [
    "Act=set([1,2,3,4,5,6])\n",
    "\n",
    "Time=dict()\n",
    "\n",
    "Time[1]=2; Time[2]=2; Time[3]=8; Time[4]=5\n",
    "Time[5]=5; Time[6]=8\n",
    "\n",
    "Prec=dict()\n",
    "\n",
    "Prec[1]=set(); Prec[2]=set(); Prec[3]=set()\n",
    "Prec[4]={1}\n",
    "Prec[5]={1}\n",
    "Prec[6]={4,5}"
   ]
  },
  {
   "cell_type": "code",
<<<<<<< HEAD
   "execution_count": null,
   "metadata": {},
   "outputs": [],
=======
   "execution_count": 46,
   "metadata": {},
   "outputs": [
    {
     "name": "stdout",
     "output_type": "stream",
     "text": [
      "The Activities have been relabeled with completion times:\n",
      "Activity  Start  is activity  0  with completion time  0\n",
      "Activity  1  is activity  1  with completion time  2\n",
      "Activity  2  is activity  2  with completion time  2\n",
      "Activity  3  is activity  3  with completion time  8\n",
      "Activity  4  is activity  4  with completion time  5\n",
      "Activity  5  is activity  5  with completion time  5\n",
      "Activity  6  is activity  6  with completion time  8\n",
      "Activity  Finish  is activity  7  with completion time  0\n",
      "\n",
      "The Activity Network is decribed by:  {(0, 1), (2, 7), (1, 5), (3, 7), (4, 6), (0, 3), (1, 4), (6, 7), (0, 2), (5, 6)}\n"
     ]
    },
    {
     "data": {
      "image/png": "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\n",
      "text/plain": [
       "<Figure size 432x288 with 1 Axes>"
      ]
     },
     "metadata": {},
     "output_type": "display_data"
    }
   ],
>>>>>>> 929050ac5d68336258f17f8817042f94db04e35d
   "source": [
    "Activity(Act, Time, Prec)"
   ]
  },
  {
   "cell_type": "markdown",
   "metadata": {},
   "source": [
    "## Critical Schedule"
   ]
  },
  {
   "cell_type": "code",
<<<<<<< HEAD
   "execution_count": null,
   "metadata": {},
   "outputs": [],
=======
   "execution_count": 49,
   "metadata": {},
   "outputs": [
    {
     "name": "stdout",
     "output_type": "stream",
     "text": [
      "The Total amount of work to be completed is: 30\n",
      "The Critical Path is: [0, 1, 5, 6, 7]\n",
      "The Minimum Completion Time with sufficient workers is: 15\n",
      "    Activity  Earliest    Latest     Float\n",
      "         0         0         0         0\n",
      "         1         0         0         0\n",
      "         2         0        13        13\n",
      "         3         0         7         7\n",
      "         4         2         2         0\n",
      "         5         2         2         0\n",
      "         6         7         7         0\n",
      "         7        15        15         0\n",
      "\n",
      "Time= 0 Current activities= {1, 3}\n",
      "\n",
      "Time= 2 Activity 1 completed\n",
      "Time= 2 Current activities= {3, 4}\n",
      "\n",
      "Time= 7 Activity 4 completed\n",
      "Time= 7 Current activities= {3, 5}\n",
      "\n",
      "Time= 8 Activity 3 completed\n",
      "Time= 8 Current activities= {2, 5}\n",
      "\n",
      "Time= 10 Activity 2 completed\n",
      "Time= 10 Current activities= {5}\n",
      "\n",
      "Time= 12 Activity 5 completed\n",
      "Time= 12 Current activities= {6}\n",
      "\n",
      "Time= 20 Activity 6 completed\n"
     ]
    },
    {
     "data": {
      "image/png": "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\n",
      "text/plain": [
       "<Figure size 432x288 with 1 Axes>"
      ]
     },
     "metadata": {
      "needs_background": "light"
     },
     "output_type": "display_data"
    }
   ],
>>>>>>> 929050ac5d68336258f17f8817042f94db04e35d
   "source": [
    "CritSchedule (G, T, 2)"
   ]
  },
  {
   "cell_type": "markdown",
   "metadata": {},
   "source": [
    "## Protection Schedule"
   ]
  },
  {
   "cell_type": "code",
<<<<<<< HEAD
   "execution_count": null,
   "metadata": {},
   "outputs": [],
=======
   "execution_count": 50,
   "metadata": {},
   "outputs": [
    {
     "name": "stdout",
     "output_type": "stream",
     "text": [
      "The Total amount of work to be completed is: 30\n",
      "The Critical Path is: [0, 1, 5, 6, 7]\n",
      "The Minimum Completion Time with sufficient workers is: 15\n",
      "    Activity  Earliest    Latest     Float\n",
      "         0         0         0         0\n",
      "         1         0         0         0\n",
      "         2         0        13        13\n",
      "         3         0         7         7\n",
      "         4         2         2         0\n",
      "         5         2         2         0\n",
      "         6         7         7         0\n",
      "         7        15        15         0\n",
      "\n",
      "Time= 0 Current activities= {1}\n",
      "\n",
      "Time= 2 Activity 1 completed\n",
      "Time= 2 Current activities= {4, 5}\n",
      "\n",
      "Time= 7 Activity 4 completed\n",
      "Time= 7 Activity 5 completed\n",
      "Time= 7 Current activities= {2, 3}\n",
      "\n",
      "Time= 9 Activity 2 completed\n",
      "Time= 9 Current activities= {3, 6}\n",
      "\n",
      "Time= 15 Activity 3 completed\n",
      "Time= 15 Current activities= {6}\n",
      "\n",
      "Time= 17 Activity 6 completed\n"
     ]
    },
    {
     "data": {
      "image/png": "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\n",
      "text/plain": [
       "<Figure size 432x288 with 1 Axes>"
      ]
     },
     "metadata": {
      "needs_background": "light"
     },
     "output_type": "display_data"
    }
   ],
>>>>>>> 929050ac5d68336258f17f8817042f94db04e35d
   "source": [
    "ProtSchedule (G, T, 2)"
   ]
  },
  {
   "cell_type": "code",
   "execution_count": null,
   "metadata": {},
   "outputs": [],
   "source": []
<<<<<<< HEAD
  },
  {
   "cell_type": "code",
   "execution_count": null,
   "metadata": {},
   "outputs": [],
   "source": []
=======
>>>>>>> 929050ac5d68336258f17f8817042f94db04e35d
  }
 ],
 "metadata": {
  "kernelspec": {
   "display_name": "Python 3",
   "language": "python",
   "name": "python3"
  },
  "language_info": {
   "codemirror_mode": {
    "name": "ipython",
    "version": 3
   },
   "file_extension": ".py",
   "mimetype": "text/x-python",
   "name": "python",
   "nbconvert_exporter": "python",
   "pygments_lexer": "ipython3",
   "version": "3.8.3"
  }
 },
 "nbformat": 4,
 "nbformat_minor": 4
}
