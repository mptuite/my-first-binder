{
 "cells": [
  {
   "cell_type": "markdown",
   "metadata": {},
   "source": [
    "# Game Theory MP305"
   ]
  },
  {
   "cell_type": "markdown",
   "metadata": {},
   "source": [
    "tbc"
   ]
  },
  {
   "cell_type": "code",
   "execution_count": null,
   "metadata": {},
   "outputs": [],
   "source": [
    "from fractions import Fraction\n",
    "import numpy as np\n",
    "import matplotlib.pyplot as plt"
   ]
  },
  {
   "cell_type": "markdown",
   "metadata": {},
   "source": [
    "## The function `Saddle` \n",
    "This determines whether a matrix game described by a payoff matrix `Pay` has a saddle point solution. The function finds the minimax and the maximin which are equal iff a saddle solution exists  \n"
   ]
  },
  {
   "cell_type": "code",
   "execution_count": null,
   "metadata": {},
   "outputs": [],
   "source": [
    "def Saddle (Pay):\n",
    "    a = np.matrix(Pay)\n",
    "    m,n = a.shape\n",
    "    minimax = max(a[i,0] for i in range(m))\n",
    "    for j in range(1, n):\n",
    "        minimax = min(minimax, max(a[i,j] for i in range(m)))\n",
    "    maximin = min(a[0,j] for j in range(n))\n",
    "    for i in range(1, m):\n",
    "        maximin = max(maximin, min(a[i,j] for j in range(n)))  \n",
    "    if maximin == minimax:\n",
    "        print(\"Saddle Point Solution exists with Value\", maximin)\n",
    "    else:\n",
    "        print(\"No Saddle Point Solution Exists\")\n",
    "        print(\"The minimax is \", minimax)\n",
    "        print(\"The maximin is \", maximin)\n"
   ]
  },
  {
   "cell_type": "markdown",
   "metadata": {},
   "source": [
    "## Some Examples "
   ]
  },
  {
   "cell_type": "code",
   "execution_count": null,
   "metadata": {},
   "outputs": [],
   "source": [
    "Pay1=[[1,2],[0,-2]]\n",
    "\n",
    "Saddle(Pay1)"
   ]
  },
  {
   "cell_type": "code",
   "execution_count": null,
   "metadata": {},
   "outputs": [],
   "source": [
    "Pay2=[[0,13,-5,1],[-13,0,8,-12],[5,-8,0,6],[-1,12,-6,0]]\n",
    "\n",
    "Saddle(Pay2)"
   ]
  },
  {
   "cell_type": "code",
   "execution_count": null,
   "metadata": {},
   "outputs": [],
   "source": [
    "Pay3=[[1, 2, 4, 0], [0, -2, -3, 2]]\n",
    "\n",
    "Saddle(Pay3)"
   ]
  },
  {
   "cell_type": "code",
   "execution_count": null,
   "metadata": {},
   "outputs": [],
   "source": [
    "Pay4=[[1, 4, 0], [1, -2, 4], [-1, 2, 3]]\n",
    "\n",
    "Saddle(Pay4)"
   ]
  },
  {
   "cell_type": "markdown",
   "metadata": {},
   "source": [
    "## The function `MatrixGame2n` \n",
    "This determines the optimal mixed solution for a $2\\times n$ matrix game with payoff matrix `P`.  "
   ]
  },
  {
   "cell_type": "code",
   "execution_count": null,
   "metadata": {},
   "outputs": [],
   "source": [
    "def MatrixGame2n(Pay):\n",
    "# function to analyse 2 matrix game with 2 by n pay-off Pay\n",
    "    a=np.matrix(Pay)\n",
    "    m,n=a.shape\n",
    "    if not m==2:\n",
    "        return(\"Warning: The Payoff matrix is not 2 by n\")\n",
    "    U=set()\n",
    "    for j in range(n):\n",
    "        U=U | set([(a[0,j]-a[1,j],a[1,j])]) # Utility U[j][0]p + U[j][1]\n",
    "    p0=0\n",
    "    Umaxmin=min([a[1,j] for j in range(n)]) # min at p=0\n",
    "    pmaxmin=0\n",
    "\n",
    "    # find Uj with min at p0\n",
    "\n",
    "    while not U==set():\n",
    "        Umin=list(U)[0] # pick element of U\n",
    "        for Uj in U: \n",
    "            Ujp0=p0*Uj[0]+Uj[1]\n",
    "            if Ujp0<Umin[1]:\n",
    "                Umin=Uj\n",
    "        # intercepts with Umin\n",
    "        Unew=set()\n",
    "        pintlist=[]\n",
    "        for Uj in U:\n",
    "            if Uj[0]<Umin[0]: #slope Uj< slope Umin\n",
    "                pintj=-Fraction((Uj[1]-Umin[1]),(Uj[0]-Umin[0]))\n",
    "                Upintj=pintj*Uj[0]+Uj[1]\n",
    "                if pintj >=0 and pintj <=1:\n",
    "                    pintlist=pintlist+[pintj]\n",
    "                    Unew=Unew | set([Uj])\n",
    "        U=Unew\n",
    "        if not U==set():\n",
    "            p0=min(pintlist)\n",
    "            Up0=p0*Umin[0]+Umin[1]\n",
    "            if Umaxmin<Up0:\n",
    "                pmaxmin=p0\n",
    "                Umaxmin=Up0\n",
    "            if len(U)==1: \n",
    "                Up1=list(U)[0][0]+list(U)[0][1]\n",
    "                if Umaxmin<Up1:\n",
    "                    pmaxmin=1\n",
    "                    Umaxmin=Up1\n",
    "    print(\"Optimal strategy is (A_1,A_2) played with probabilities (\",pmaxmin,\",\",1-pmaxmin, \") and with average pay-off of\",Umaxmin)\n",
    "    plt.figure(figsize=(7, 7))\n",
    "    plt.xlim([0, 1]) \n",
    "    plt.xlabel('p_1',size=15)\n",
    "    plt.ylabel('Average Payoff',size=15)\n",
    "    plt.plot([pmaxmin], [Umaxmin], marker=\".\", markersize=30)      \n",
    "    for j in range(n):\n",
    "        plt.plot([0,1],[a[1,j],a[0,j]])"
   ]
  },
  {
   "cell_type": "code",
   "execution_count": null,
   "metadata": {},
   "outputs": [],
   "source": [
    "print(Pay1)\n",
    "Saddle(Pay1)\n",
    "MatrixGame2n(Pay1)"
   ]
  },
  {
   "cell_type": "code",
   "execution_count": null,
   "metadata": {},
   "outputs": [],
   "source": []
  },
  {
   "cell_type": "code",
   "execution_count": null,
   "metadata": {},
   "outputs": [],
   "source": [
    "print(Pay2)\n",
    "Saddle(Pay2)\n",
    "MatrixGame2n(Pay2)"
   ]
  },
  {
   "cell_type": "code",
   "execution_count": null,
   "metadata": {},
   "outputs": [],
   "source": [
    "print(Pay3)\n",
    "Saddle(Pay3)\n",
    "MatrixGame2n(Pay3)"
   ]
  },
  {
   "cell_type": "code",
   "execution_count": null,
   "metadata": {},
   "outputs": [],
   "source": [
    "print(Pay4)\n",
    "Saddle(Pay4)\n",
    "MatrixGame2n(Pay4)"
   ]
  },
  {
   "cell_type": "code",
   "execution_count": null,
   "metadata": {},
   "outputs": [],
   "source": [
    "Pay=[[0,-13,-5,1],\n",
    "     [-13,0,8,+12]]\n",
    "Saddle(Pay)\n",
    "MatrixGame2n(Pay)"
   ]
  },
  {
   "cell_type": "code",
   "execution_count": null,
   "metadata": {},
   "outputs": [],
   "source": []
  },
  {
   "cell_type": "code",
   "execution_count": null,
   "metadata": {},
   "outputs": [],
   "source": []
  }
 ],
 "metadata": {
  "kernelspec": {
   "display_name": "Python 3",
   "language": "python",
   "name": "python3"
  },
  "language_info": {
   "codemirror_mode": {
    "name": "ipython",
    "version": 3
   },
   "file_extension": ".py",
   "mimetype": "text/x-python",
   "name": "python",
   "nbconvert_exporter": "python",
   "pygments_lexer": "ipython3",
   "version": "3.8.3"
  }
 },
 "nbformat": 4,
 "nbformat_minor": 4
}
